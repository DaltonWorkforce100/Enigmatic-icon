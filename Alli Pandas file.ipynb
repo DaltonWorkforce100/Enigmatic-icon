{
 "cells": [
  {
   "cell_type": "code",
   "execution_count": 9,
   "id": "afd9977e-d807-4f9f-96cf-1dd5fb617a8d",
   "metadata": {},
   "outputs": [],
   "source": [
    "import numpy as np\n",
    "import pandas as pd\n",
    "from numpy import random as randn"
   ]
  },
  {
   "cell_type": "code",
   "execution_count": 10,
   "id": "a93a685f-b49f-464d-bd73-95dc57188b79",
   "metadata": {},
   "outputs": [
    {
     "data": {
      "text/plain": [
       "['Karu', 'Aso', 'Nyanya', 'Keffi', 'Asokoro']"
      ]
     },
     "execution_count": 10,
     "metadata": {},
     "output_type": "execute_result"
    }
   ],
   "source": [
    "Alli_data = [10, 12, 13, 14, 15]\n",
    "Alli_data\n",
    "labels = [\"Karu\", \"Aso\", \"Nyanya\", \"Keffi\", \"Asokoro\"]\n",
    "labels"
   ]
  },
  {
   "cell_type": "code",
   "execution_count": 11,
   "id": "8866836f-6966-4479-a59e-5090c1be0cee",
   "metadata": {},
   "outputs": [
    {
     "data": {
      "text/plain": [
       "Karu       10\n",
       "Aso        12\n",
       "Nyanya     13\n",
       "Keffi      14\n",
       "Asokoro    15\n",
       "dtype: int64"
      ]
     },
     "execution_count": 11,
     "metadata": {},
     "output_type": "execute_result"
    }
   ],
   "source": [
    "F1 = pd.Series(data=Alli_data, index=labels)\n",
    "F1"
   ]
  },
  {
   "cell_type": "code",
   "execution_count": 12,
   "id": "e9d8b592-c026-4f5e-8885-443b895bb834",
   "metadata": {},
   "outputs": [
    {
     "data": {
      "text/plain": [
       "pandas.core.series.Series"
      ]
     },
     "execution_count": 12,
     "metadata": {},
     "output_type": "execute_result"
    }
   ],
   "source": [
    "type(F1)"
   ]
  },
  {
   "cell_type": "markdown",
   "id": "ef9fff57-04f7-4f6e-9840-e4248f6833ec",
   "metadata": {},
   "source": [
    "### Using Pandas Series on Dictionary"
   ]
  },
  {
   "cell_type": "code",
   "execution_count": 13,
   "id": "2acaed96-fb62-4d1b-8ea4-b91caf03af72",
   "metadata": {},
   "outputs": [
    {
     "data": {
      "text/plain": [
       "{'Name': 'David B. Alli',\n",
       " 'Age': 22,\n",
       " 'Sex': 'Male',\n",
       " 'Skin': 'Black',\n",
       " 'Phone': '1234567'}"
      ]
     },
     "execution_count": 13,
     "metadata": {},
     "output_type": "execute_result"
    }
   ],
   "source": [
    "david_dict = {\"Name\":\"David B. Alli\", \"Age\":22, \"Sex\":\"Male\", \"Skin\":\"Black\", \"Phone\":\"1234567\"}\n",
    "david_dict"
   ]
  },
  {
   "cell_type": "code",
   "execution_count": 14,
   "id": "d5cbd021-2025-49e5-9ee5-3a51d6491b06",
   "metadata": {},
   "outputs": [
    {
     "data": {
      "text/plain": [
       "Name     David B. Alli\n",
       "Age                 22\n",
       "Sex               Male\n",
       "Skin             Black\n",
       "Phone          1234567\n",
       "dtype: object"
      ]
     },
     "execution_count": 14,
     "metadata": {},
     "output_type": "execute_result"
    }
   ],
   "source": [
    "A = pd.Series(data=david_dict)\n",
    "A"
   ]
  },
  {
   "cell_type": "markdown",
   "id": "35273eee-e00b-4b16-a4ea-bd1a0c0bec2b",
   "metadata": {},
   "source": [
    "### Indexing"
   ]
  },
  {
   "cell_type": "code",
   "execution_count": 16,
   "id": "6cf5cd87-9379-46ac-86f8-88a7b943d911",
   "metadata": {},
   "outputs": [
    {
     "data": {
      "text/plain": [
       "Blue      10\n",
       "Yellow    20\n",
       "Black     30\n",
       "Green     40\n",
       "Purple    50\n",
       "dtype: int64"
      ]
     },
     "execution_count": 16,
     "metadata": {},
     "output_type": "execute_result"
    }
   ],
   "source": [
    "bolu = pd.Series(data=[10, 20, 30, 40, 50], index=[\"Blue\", \"Yellow\", \"Black\", \"Green\", \"Purple\"])\n",
    "bolu"
   ]
  },
  {
   "cell_type": "code",
   "execution_count": 2,
   "id": "b62ce6c9-7608-45cc-844f-fde310c6399e",
   "metadata": {},
   "outputs": [
    {
     "ename": "NameError",
     "evalue": "name 'pd' is not defined",
     "output_type": "error",
     "traceback": [
      "\u001b[1;31m---------------------------------------------------------------------------\u001b[0m",
      "\u001b[1;31mNameError\u001b[0m                                 Traceback (most recent call last)",
      "Cell \u001b[1;32mIn[2], line 1\u001b[0m\n\u001b[1;32m----> 1\u001b[0m dalton \u001b[38;5;241m=\u001b[39m pd\u001b[38;5;241m.\u001b[39mSeries(data\u001b[38;5;241m=\u001b[39m[\u001b[38;5;241m10\u001b[39m, \u001b[38;5;241m20\u001b[39m, \u001b[38;5;241m30\u001b[39m, \u001b[38;5;241m40\u001b[39m], index\u001b[38;5;241m=\u001b[39m[\u001b[38;5;124m\"\u001b[39m\u001b[38;5;124mDil\u001b[39m\u001b[38;5;124m\"\u001b[39m, \u001b[38;5;124m\"\u001b[39m\u001b[38;5;124mBil\u001b[39m\u001b[38;5;124m\"\u001b[39m, \u001b[38;5;124m\"\u001b[39m\u001b[38;5;124mUix\u001b[39m\u001b[38;5;124m\"\u001b[39m, \u001b[38;5;124m\"\u001b[39m\u001b[38;5;124mVix\u001b[39m\u001b[38;5;124m\"\u001b[39m])\n\u001b[0;32m      2\u001b[0m dalton\n",
      "\u001b[1;31mNameError\u001b[0m: name 'pd' is not defined"
     ]
    }
   ],
   "source": [
    "dalton = pd.Series(data=[10, 20, 30, 40], index=[\"Dil\", \"Bil\", \"Uix\", \"Vix\"])\n",
    "dalton"
   ]
  },
  {
   "cell_type": "code",
   "execution_count": null,
   "id": "561f720e-ba33-405d-bfc0-03a462eafa9b",
   "metadata": {},
   "outputs": [],
   "source": [
    "lincoln = pd.Series([1, 2, 4, 5, 6])\n",
    "lincoln"
   ]
  },
  {
   "cell_type": "markdown",
   "id": "f99a7859-b736-42e3-a127-7f8d0f400e16",
   "metadata": {},
   "source": [
    "#### Data Frame Project"
   ]
  },
  {
   "cell_type": "code",
   "execution_count": null,
   "id": "3950e3aa-9f98-49a4-afe3-1853f10aefb0",
   "metadata": {},
   "outputs": [],
   "source": [
    "Food = np.random.randn(5, 5)\n",
    "Food"
   ]
  },
  {
   "cell_type": "code",
   "execution_count": null,
   "id": "bed76759-b003-42c5-ae64-66cca710ce1a",
   "metadata": {},
   "outputs": [],
   "source": [
    "Food.shape"
   ]
  },
  {
   "cell_type": "code",
   "execution_count": null,
   "id": "13ca366f-97be-4b39-8608-5ebf027c2149",
   "metadata": {},
   "outputs": [],
   "source": [
    "rows = [\"Akwata\", \"Gariki\", \"New gariki\", \"Junction\", \"Barracks\"]"
   ]
  },
  {
   "cell_type": "code",
   "execution_count": null,
   "id": "33363b3c-968d-4ee8-be00-87d4b8c27098",
   "metadata": {},
   "outputs": [],
   "source": [
    "col = [\"Garri\", \"Akpu\", \"Semo\", \"Wheat\", \"Amala\"]"
   ]
  },
  {
   "cell_type": "code",
   "execution_count": null,
   "id": "a0b83ba2-95b4-4a3c-9261-c873b877b31a",
   "metadata": {},
   "outputs": [],
   "source": [
    "Juliana = pd.DataFrame(data=Food, index=rows, columns=col)\n",
    "Juliana"
   ]
  },
  {
   "cell_type": "code",
   "execution_count": null,
   "id": "69ca2f95-5bef-4dc6-be87-88f1b0892ab1",
   "metadata": {},
   "outputs": [],
   "source": [
    "Mama = Juliana.copy\n",
    "Mama"
   ]
  },
  {
   "cell_type": "code",
   "execution_count": null,
   "id": "7a3d919e-7ff1-41b8-af64-4f92c6a4733b",
   "metadata": {},
   "outputs": [],
   "source": [
    "Mama"
   ]
  },
  {
   "cell_type": "code",
   "execution_count": null,
   "id": "8014668a-4fbf-4ecf-8480-f18b57825a7b",
   "metadata": {},
   "outputs": [],
   "source": [
    "Juliana"
   ]
  },
  {
   "cell_type": "code",
   "execution_count": null,
   "id": "f25e8009-1d64-4812-ad8c-d85c03ee2d84",
   "metadata": {},
   "outputs": [],
   "source": [
    "Mama"
   ]
  },
  {
   "cell_type": "code",
   "execution_count": null,
   "id": "fc950587-2272-4271-a842-915e56b561b1",
   "metadata": {},
   "outputs": [],
   "source": [
    "Juliana[\"Garri\"]"
   ]
  },
  {
   "cell_type": "code",
   "execution_count": null,
   "id": "ba0a6e1a-30c2-4fc6-9d7a-965d1a50eb01",
   "metadata": {},
   "outputs": [],
   "source": [
    "Juliana[\"Tuowo\"] = [0.181818, 1.919991, 0.9119191, 2.220202, 1.0101010]\n",
    "Juliana"
   ]
  },
  {
   "cell_type": "code",
   "execution_count": null,
   "id": "be487984-c6ee-457a-abe1-bb10d2ee1f2c",
   "metadata": {},
   "outputs": [],
   "source": [
    "Juliana.describe()"
   ]
  },
  {
   "cell_type": "code",
   "execution_count": null,
   "id": "d090d1c0-bc9a-4cea-947d-463438efc601",
   "metadata": {},
   "outputs": [],
   "source": [
    "Juliana"
   ]
  },
  {
   "cell_type": "code",
   "execution_count": null,
   "id": "85806ea0-d4c0-4afd-b384-c670f8f466a5",
   "metadata": {},
   "outputs": [],
   "source": [
    "clean_data = Juliana.drop(\"Amala\", axis=1)\n",
    "clean_data                      "
   ]
  },
  {
   "cell_type": "code",
   "execution_count": null,
   "id": "e29c8f22-f08b-48f2-b9a8-a4ea2b8906b4",
   "metadata": {},
   "outputs": [],
   "source": [
    "clean_data"
   ]
  },
  {
   "cell_type": "code",
   "execution_count": null,
   "id": "82cca563-a0ea-412f-ba70-29afa845c36a",
   "metadata": {},
   "outputs": [],
   "source": [
    "clean_data"
   ]
  },
  {
   "cell_type": "code",
   "execution_count": null,
   "id": "9c026307-c714-4a9c-a7ed-3536537a6417",
   "metadata": {},
   "outputs": [],
   "source": [
    "clean_data.loc[\"Gariki\"]"
   ]
  },
  {
   "cell_type": "code",
   "execution_count": null,
   "id": "fd193da3-ff2e-4023-8516-1e01b81a1627",
   "metadata": {},
   "outputs": [],
   "source": []
  }
 ],
 "metadata": {
  "kernelspec": {
   "display_name": "Python 3 (ipykernel)",
   "language": "python",
   "name": "python3"
  },
  "language_info": {
   "codemirror_mode": {
    "name": "ipython",
    "version": 3
   },
   "file_extension": ".py",
   "mimetype": "text/x-python",
   "name": "python",
   "nbconvert_exporter": "python",
   "pygments_lexer": "ipython3",
   "version": "3.11.7"
  }
 },
 "nbformat": 4,
 "nbformat_minor": 5
}
